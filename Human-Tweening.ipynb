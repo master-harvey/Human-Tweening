{
 "cells": [
  {
   "cell_type": "code",
   "execution_count": 13,
   "id": "0f34b5ce-c2f5-428b-8a51-afaeea96c46f",
   "metadata": {},
   "outputs": [],
   "source": [
    "## Import the data stored in dynamo and 'unmarshal' it\n",
    "import json\n",
    "import sys\n",
    "from boto3.dynamodb.types import TypeDeserializer\n",
    "\n",
    "with open('training_data.json') as f:\n",
    "    marshaled_data = f.readlines()\n",
    "\n",
    "# Dynamo has a weird format that we need to convert to JSON\n",
    "type_deserializer = TypeDeserializer()\n",
    "    \n",
    "# Write the deserialized data to the output file\n",
    "with open(\"deserialized_data.json\", 'w') as file:\n",
    "    newlines = [] #The file is composed of JSON objects separated by newlines, not directly usable\n",
    "    for line in marshaled_data:\n",
    "        decoded_line = json.loads(line)['Item']\n",
    "        new_line = {k:int(type_deserializer.deserialize(v)) if type(k) is not str else type_deserializer.deserialize(v) for k,v in decoded_line.items()}\n",
    "        newlines.append(str(new_line).replace(\"Decimal('\",\"\").replace(\"')\",\"\").replace(\"'\",'\"'))\n",
    "    file.write(\"[\"+\",\\n\".join(newlines)+\"]\")\n",
    "    unmarshaled_data = json.loads(\"[\"+\",\\n\".join(newlines)+\"]\")"
   ]
  },
  {
   "cell_type": "code",
   "execution_count": 14,
   "id": "248eaeb6-2435-431b-9bfc-0f3f771a9cc9",
   "metadata": {},
   "outputs": [],
   "source": [
    "## Convert the unmarshaled data to use relative coordinates (the units are pixels)\n",
    "samples = []\n",
    "    \n",
    "for item in unmarshaled_data:\n",
    "    translation = item['translation']\n",
    "    timeframe = item['end_timestamp'] - item['start_timestamp']\n",
    "    path = item['raw_path']\n",
    "    \n",
    "    steps = []\n",
    "    prev_point = None\n",
    "    for point in path:\n",
    "        if prev_point is not None:\n",
    "            dx = point['x'] - prev_point['x']\n",
    "            dy = point['y'] - prev_point['y']\n",
    "            dt = point['t'] - prev_point['t']\n",
    "            if dt < 3:\n",
    "                dt = 3 #near 0 values are unacceptable but I don't feel like looking into it further\n",
    "            steps.append({\"x\": dx, \"y\": dy, \"t\": dt})\n",
    "        prev_point = point\n",
    "        \n",
    "    # Construct the new object\n",
    "    samples.append({\"translation\": {\"x\": translation[0], \"y\": translation[1], \"t\": timeframe}, \"steps\": steps})"
   ]
  },
  {
   "cell_type": "code",
   "execution_count": 12,
   "id": "c5954fd0-6f17-4c7b-8d19-67f90b57efad",
   "metadata": {},
   "outputs": [],
   "source": [
    "## I so far have not come up with a good model but my attempts are labeled main*.py"
   ]
  }
 ],
 "metadata": {
  "kernelspec": {
   "display_name": "Python 3 (ipykernel)",
   "language": "python",
   "name": "python3"
  },
  "language_info": {
   "codemirror_mode": {
    "name": "ipython",
    "version": 3
   },
   "file_extension": ".py",
   "mimetype": "text/x-python",
   "name": "python",
   "nbconvert_exporter": "python",
   "pygments_lexer": "ipython3",
   "version": "3.12.3"
  }
 },
 "nbformat": 4,
 "nbformat_minor": 5
}
